{
 "cells": [
  {
   "cell_type": "markdown",
   "metadata": {},
   "source": [
    "## Simple Implementation of Back-propagation"
   ]
  },
  {
   "cell_type": "code",
   "execution_count": 36,
   "metadata": {},
   "outputs": [],
   "source": [
    "import numpy as np\n",
    "import matplotlib.pyplot as plt\n",
    "from IPython.display import display, Math, Latex"
   ]
  },
  {
   "cell_type": "code",
   "execution_count": 4,
   "metadata": {},
   "outputs": [],
   "source": [
    "def sigmoid(xj):\n",
    "\n",
    "    s = 1/(1+np.exp(-xj))\n",
    "    \n",
    "    return s"
   ]
  },
  {
   "cell_type": "code",
   "execution_count": 63,
   "metadata": {},
   "outputs": [
    {
     "data": {
      "text/latex": [
       "$\\displaystyle x_j = \\sum_{i=0}y_iw_{ij}$"
      ],
      "text/plain": [
       "<IPython.core.display.Math object>"
      ]
     },
     "metadata": {},
     "output_type": "display_data"
    },
    {
     "data": {
      "text/latex": [
       "$\\displaystyle y_j = \\frac{1}{1+e^{-x_j}}$"
      ],
      "text/plain": [
       "<IPython.core.display.Math object>"
      ]
     },
     "metadata": {},
     "output_type": "display_data"
    },
    {
     "data": {
      "text/latex": [
       "$\\displaystyle E = \\frac{1}{2}\\sum_{j}(y_j-d_j)^2$"
      ],
      "text/plain": [
       "<IPython.core.display.Math object>"
      ]
     },
     "metadata": {},
     "output_type": "display_data"
    },
    {
     "data": {
      "text/latex": [
       "$\\displaystyle \\frac{\\partial E}{\\partial y_j} = y_j - d_j$"
      ],
      "text/plain": [
       "<IPython.core.display.Math object>"
      ]
     },
     "metadata": {},
     "output_type": "display_data"
    },
    {
     "data": {
      "text/latex": [
       "$\\displaystyle \\frac{\\partial y_j}{\\partial x_j} = y_j*(1-y_j)$"
      ],
      "text/plain": [
       "<IPython.core.display.Math object>"
      ]
     },
     "metadata": {},
     "output_type": "display_data"
    },
    {
     "data": {
      "text/latex": [
       "$\\displaystyle \\frac{\\partial x_j}{\\partial w_{ij}} = y_i$"
      ],
      "text/plain": [
       "<IPython.core.display.Math object>"
      ]
     },
     "metadata": {},
     "output_type": "display_data"
    }
   ],
   "source": [
    "display(Math(r'x_j = \\sum_{i=0}y_iw_{ij}'))\n",
    "display(Math(r'y_j = \\frac{1}{1+e^{-x_j}}'))\n",
    "display(Math(r'E = \\frac{1}{2}\\sum_{j}(y_j-d_j)^2'))\n",
    "display(Math(r'\\frac{\\partial E}{\\partial y_j} = y_j - d_j'))\n",
    "display(Math(r'\\frac{\\partial y_j}{\\partial x_j} = y_j*(1-y_j)'))\n",
    "display(Math(r'\\frac{\\partial x_j}{\\partial w_{ij}} = y_i'))"
   ]
  },
  {
   "cell_type": "code",
   "execution_count": 64,
   "metadata": {},
   "outputs": [],
   "source": [
    "def propagate(w, yi, yj, dj):\n",
    "\n",
    "    m = yi.shape[1]\n",
    "\n",
    "    yj = sigmoid(np.dot(w.T, yi))       # compute activation\n",
    "    cost = 1/m*(np.sum(yj-dj))         # compute cost\n",
    " \n",
    "    dw = 1/m*np.dot((np.dot(yi, ((yj-dj).T))), yj*(1-yj))\n",
    " \n",
    "    cost = np.squeeze(cost)\n",
    " \n",
    "    \n",
    "    return dw, cost"
   ]
  },
  {
   "cell_type": "code",
   "execution_count": 65,
   "metadata": {},
   "outputs": [],
   "source": [
    "def optimize(w, yi, dj, num_iterations, learning_rate):\n",
    "\n",
    "    costs = []\n",
    "    \n",
    "    for i in range(num_iterations):\n",
    "        \n",
    "        dw, cost = propagate(w, yi, yj, dj)\n",
    "\n",
    "        w = w - learning_rate*dw\n",
    "\n",
    "        if i % 1 == 0:\n",
    "            costs.append(cost)\n",
    "\n",
    "        if i % 1 == 0:\n",
    "            print (\"Cost after iteration %i: %f\" %(i, cost))\n",
    "    \n",
    "    return w, dw, yj, costs"
   ]
  },
  {
   "cell_type": "code",
   "execution_count": 66,
   "metadata": {},
   "outputs": [],
   "source": [
    "w, yi, dj = np.array([[1.],[2.]]), np.array([[1,2,-1],[3,4,-3.2]]), np.array([[1,0,1]])"
   ]
  },
  {
   "cell_type": "code",
   "execution_count": 67,
   "metadata": {},
   "outputs": [
    {
     "name": "stdout",
     "output_type": "stream",
     "text": [
      "Cost after iteration 0: -0.000115\n",
      "Cost after iteration 1: -0.000346\n",
      "Cost after iteration 2: -0.000346\n",
      "Cost after iteration 3: -0.000347\n",
      "Cost after iteration 4: -0.000347\n",
      "Cost after iteration 5: -0.000347\n",
      "Cost after iteration 6: -0.000348\n",
      "Cost after iteration 7: -0.000348\n",
      "Cost after iteration 8: -0.000349\n",
      "Cost after iteration 9: -0.000349\n",
      "w = [[0.997439   0.99987199 0.99828173]\n",
      " [1.99385446 1.99969281 1.99587673]]\n",
      "\n",
      "dw = [[0.00275869 0.00013821 0.0018515 ]\n",
      " [0.00661992 0.00033165 0.00444297]]\n",
      "\n",
      "prediction = [[1 0 1]]\n"
     ]
    }
   ],
   "source": [
    "w, dw, yj, costs = optimize(w, yi, dj, num_iterations= 10, learning_rate = 0.1)\n",
    "\n",
    "print (\"w = \" + str(w) + '\\n')\n",
    "print (\"dw = \" + str(dw) + '\\n')\n",
    "print(\"prediction = \" + str(yj))"
   ]
  }
 ],
 "metadata": {
  "kernelspec": {
   "display_name": "Python 3",
   "language": "python",
   "name": "python3"
  },
  "language_info": {
   "codemirror_mode": {
    "name": "ipython",
    "version": 3
   },
   "file_extension": ".py",
   "mimetype": "text/x-python",
   "name": "python",
   "nbconvert_exporter": "python",
   "pygments_lexer": "ipython3",
   "version": "3.8.3"
  }
 },
 "nbformat": 4,
 "nbformat_minor": 4
}
