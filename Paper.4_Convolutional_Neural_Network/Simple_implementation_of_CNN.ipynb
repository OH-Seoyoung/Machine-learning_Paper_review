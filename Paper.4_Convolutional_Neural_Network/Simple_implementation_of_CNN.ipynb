{
 "cells": [
  {
   "cell_type": "markdown",
   "metadata": {},
   "source": [
    "## 0. Import Packages"
   ]
  },
  {
   "cell_type": "code",
   "execution_count": 153,
   "metadata": {},
   "outputs": [],
   "source": [
    "import input_data\n",
    "import numpy as np\n",
    "import matplotlib.pylab as plt"
   ]
  },
  {
   "cell_type": "markdown",
   "metadata": {},
   "source": [
    "## 1. MNIST Dataset"
   ]
  },
  {
   "cell_type": "code",
   "execution_count": 98,
   "metadata": {},
   "outputs": [
    {
     "name": "stdout",
     "output_type": "stream",
     "text": [
      "Extracting ./samples/MNIST_data/train-images-idx3-ubyte.gz\n",
      "Extracting ./samples/MNIST_data/train-labels-idx1-ubyte.gz\n",
      "Extracting ./samples/MNIST_data/t10k-images-idx3-ubyte.gz\n",
      "Extracting ./samples/MNIST_data/t10k-labels-idx1-ubyte.gz\n"
     ]
    }
   ],
   "source": [
    "mnist = input_data.read_data_sets(\"./samples/MNIST_data/\", one_hot = True)"
   ]
  },
  {
   "cell_type": "code",
   "execution_count": 99,
   "metadata": {},
   "outputs": [
    {
     "name": "stdout",
     "output_type": "stream",
     "text": [
      "the number of train examples : 55000\n",
      "the number of test examples : 10000\n"
     ]
    }
   ],
   "source": [
    "print(\"the number of train examples :\" , mnist.train.num_examples)\n",
    "print(\"the number of test examples :\" , mnist.test.num_examples)"
   ]
  },
  {
   "cell_type": "code",
   "execution_count": 102,
   "metadata": {},
   "outputs": [],
   "source": [
    "x_train_orig = mnist.train.images.reshape((55000, 28, 28, 1))\n",
    "x_test_orig = mnist.test.images.reshape((10000, 28, 28, 1))"
   ]
  },
  {
   "cell_type": "code",
   "execution_count": 106,
   "metadata": {},
   "outputs": [],
   "source": [
    "# Normalization\n",
    "x_train = x_train_orig.astype('float32') / 255\n",
    "x_test = x_test_orig.astype('float32') / 255\n",
    "\n",
    "y_train = mnist.train.labels\n",
    "y_test = mnist.test.labels"
   ]
  },
  {
   "cell_type": "code",
   "execution_count": 107,
   "metadata": {},
   "outputs": [
    {
     "name": "stdout",
     "output_type": "stream",
     "text": [
      "(55000, 28, 28, 1)\n",
      "(10000, 28, 28, 1)\n",
      "(55000, 10)\n",
      "(10000, 10)\n"
     ]
    }
   ],
   "source": [
    "print(np.shape(x_train))\n",
    "print(np.shape(x_test))\n",
    "print(np.shape(y_train))\n",
    "print(np.shape(y_test))"
   ]
  },
  {
   "cell_type": "code",
   "execution_count": 109,
   "metadata": {
    "scrolled": false
   },
   "outputs": [
    {
     "data": {
      "image/png": "[encoded data removed]",
      "text/plain": [
       "<Figure size 576x576 with 9 Axes>"
      ]
     },
     "metadata": {},
     "output_type": "display_data"
    }
   ],
   "source": [
    "pic,real_values = mnist.train.next_batch(25)  \n",
    "\n",
    "plt.figure(figsize=(8,8))\n",
    "for i in range(9):\n",
    "    plt.subplot(3,3,i+1)\n",
    "    plt.xticks([])\n",
    "    plt.yticks([])\n",
    "    plt.grid(False)\n",
    "    image = np.reshape(pic[i,:] , [28,28])\n",
    "    plt.imshow(image)\n",
    "    plt.xlabel(np.argmax(real_values[i]))\n",
    "plt.show()"
   ]
  },
  {
   "cell_type": "markdown",
   "metadata": {},
   "source": [
    "## 2. Convolutional Neural Network"
   ]
  },
  {
   "cell_type": "code",
   "execution_count": 146,
   "metadata": {},
   "outputs": [],
   "source": [
    "def zero_padding(data, pad):\n",
    "    padding = np.pad(data,((0,0),(pad,pad),(pad,pad),(0,0)), 'constant')\n",
    "    \n",
    "    return padding"
   ]
  },
  {
   "cell_type": "code",
   "execution_count": 147,
   "metadata": {},
   "outputs": [],
   "source": [
    "def softmax(y_hat,y):\n",
    "    exp_y_hat = np.exp(y_hat, dtype=np.float)  \n",
    "    prob = exp_y_hat/np.sum(exp_y_hat, axis = 1)[:,None]\n",
    "    p = np.sum(np.multiply(y,prob), axis = 1)\n",
    "    \n",
    "    label = np.argmax(np.array(prob), axis = 1)\n",
    "    cost = -np.log(p)\n",
    "    \n",
    "    return p,cost,prob,label"
   ]
  },
  {
   "cell_type": "code",
   "execution_count": 148,
   "metadata": {},
   "outputs": [],
   "source": [
    "def conv_forward(input_data, y, W1, b1, theta3,bias3):\n",
    "\n",
    "    m, n_H, n_W, n_C = input_data.shape\n",
    "\n",
    "    l1 = len(W1)\n",
    "    \n",
    "    (f, f, _) = W1[0].shape   # Shape of the filter\n",
    "    pad = 1\n",
    "\n",
    "    # Feature map 1\n",
    "    n_H1 = n_H+(2*pad)-f + 1\n",
    "    n_W1 = n_W+(2*pad)-f + 1\n",
    "   \n",
    "    ## Initializing output image matrices after convolution\n",
    "    conv1 = np.zeros((m,n_H1,n_W1,l1))\n",
    "    \n",
    "    ## Padding\n",
    "    input_pad = zero_padding(input_data,pad)\n",
    "    \n",
    "    ## First convolution layer\n",
    "    for i in range(0,m):  # num of data                                            \n",
    "        for j in range(0,l1):    # filter                                     \n",
    "            for k in range(0,n_H1):     # height                        \n",
    "                for w in range(0,n_W1):     # width                             \n",
    "                    conv1[i,k,w,j] = np.sum(input_pad[i,k:k+f,w:w+f]*W1[j])+b1[j]\n",
    "        conv1[i,:,:,:][conv1[i,:,:,:] <= 0] = 0   # Relu\n",
    "        \n",
    "\n",
    "    # Flatten\n",
    "    fc1 = conv1.reshape(m,int((n_H1)*(n_W1)*l1)) \n",
    "    \n",
    "    ## Output layer\n",
    "    y_hat = np.dot(fc1,theta3) + bias3\n",
    "        \n",
    "    # Softmax\n",
    "    p, cost, prob, label = softmax(y_hat, y)\n",
    "    \n",
    "    # Accuracy\n",
    "    acc = []\n",
    "    for i in range(0,len(label)):\n",
    "        if label[i] == np.argmax(y[i:]):\n",
    "            acc.append(1)\n",
    "        else:\n",
    "            acc.append(0)\n",
    "\n",
    "    # Backprop\n",
    "    dy_hat = prob - y\n",
    "    dtheta3 = np.dot(dy_hat.T, fc1)\n",
    "    dbias3 = np.mean(dy_hat, axis = 0).reshape(1,10)    \n",
    "\n",
    "    dfc1 = np.dot(theta3,dy_hat.T)    \n",
    "    dconv1 = dfc1.T.reshape((m, int(n_H1), int(n_W1), l1))    \n",
    "\n",
    "    dW1s = np.zeros((m,l1,f,f,1))\n",
    "    db1s = np.zeros((m,l1,1))\n",
    "\n",
    "    dW1 = np.zeros((l1,f,f,1))\n",
    "    db1 = np.zeros((l1,1))\n",
    "    \n",
    "    \n",
    "    for i in range(0,m): \n",
    "        for c in range(0,l1):\n",
    "            for x in range(0,n_H1):\n",
    "                for y in range(0,n_W1):\n",
    "                    dW1s[i,:,:,c] += dconv1[i,x,y,c]*input_pad[i,x:x+f,y:y+f,:]\n",
    "\n",
    "            db1s[i,c] = np.sum(dconv1[i,:,:,c])\n",
    "            \n",
    "        dW1 = np.mean(dW1s, axis = 0)\n",
    "        db1 = np.mean(db1s, axis = 0)\n",
    "\n",
    "        \n",
    "        \n",
    "    return dW1, db1, dtheta3, dbias3, cost, prob, label, acc"
   ]
  },
  {
   "cell_type": "code",
   "execution_count": 149,
   "metadata": {},
   "outputs": [],
   "source": [
    "def optimizer(X, y,learning_rate,W1,b1,theta3,bias3):\n",
    "    \n",
    "    dW1 = np.zeros((l1,f,f,1))\n",
    "    db1 = np.zeros((l1,1))\n",
    "    \n",
    "    dtheta3 = np.zeros(theta3.shape)\n",
    "    dbias3 = np.zeros(bias3.shape)\n",
    "    \n",
    "    grads = conv_forward(X,y,W1,b1,theta3,bias3)\n",
    "    [dW1, db1, dtheta3, dbias3, cost_, prob_, label, acc_] = grads\n",
    "    \n",
    "    W1 = W1-learning_rate*(dW1)\n",
    "    b1 = b1-learning_rate*(db1)\n",
    "    \n",
    "    theta3 = theta3-learning_rate*(dtheta3.T)\n",
    "    bias3 = bias3-learning_rate*(dbias3)\n",
    "    \n",
    "    costs = np.mean(cost_)\n",
    "    accuracys = sum(acc_)/len(acc_)\n",
    "    \n",
    "    return W1, b1, theta3, bias3, costs, accuracys"
   ]
  },
  {
   "cell_type": "code",
   "execution_count": 150,
   "metadata": {},
   "outputs": [],
   "source": [
    "W1 = np.random.rand(3,3,3,1) * 0.01\n",
    "b1 = np.random.rand(3,1) * 0.01\n",
    "\n",
    "# fully connected\n",
    "theta3 = np.random.rand(2352,10) * 0.01\n",
    "bias3 = np.random.rand(1,10) * 0.01\n",
    "\n",
    "# hyperparameter\n",
    "learning_rate = 0.01\n",
    "num_epochs = 10\n",
    "num_images = len(x_train)\n",
    "\n",
    "w = 28\n",
    "l = 1\n",
    "l1 = len(W1)\n",
    "f = len(W1[0])"
   ]
  },
  {
   "cell_type": "code",
   "execution_count": 151,
   "metadata": {},
   "outputs": [],
   "source": [
    "def main_init(X, y,W1,b1,theta3,bias3):\n",
    "    cost = []\n",
    "    accuracy = []\n",
    "\n",
    "    for epoch in range(0, num_epochs):       \n",
    "        output = optimizer(X, y,learning_rate,W1,b1,theta3,bias3)\n",
    "        [W1, b1, theta3, bias3, costs, accuracys] = output\n",
    "\n",
    "        cost.append(costs)\n",
    "        accuracy.append(accuracys)\n",
    "\n",
    "        print ('epoch:%d, cost = %f, acc = %f' %(epoch,costs,accuracys)) \n",
    "        i+=1\n",
    "        \n",
    "    return W1,b1,theta3,bias3,cost,accuracy"
   ]
  },
  {
   "cell_type": "code",
   "execution_count": 152,
   "metadata": {
    "scrolled": true
   },
   "outputs": [
    {
     "name": "stdout",
     "output_type": "stream",
     "text": [
      "epoch:0, cost = 2.302668, acc = 0.074000\n",
      "epoch:1, cost = 2.301721, acc = 0.124000\n",
      "epoch:2, cost = 2.300803, acc = 0.124000\n",
      "epoch:3, cost = 2.299780, acc = 0.124000\n",
      "epoch:4, cost = 2.298626, acc = 0.124000\n",
      "epoch:5, cost = 2.297421, acc = 0.124000\n",
      "epoch:6, cost = 2.296327, acc = 0.124000\n",
      "epoch:7, cost = 2.295506, acc = 0.124000\n",
      "epoch:8, cost = 2.295010, acc = 0.124000\n",
      "epoch:9, cost = 2.294767, acc = 0.124000\n"
     ]
    },
    {
     "data": {
      "image/png": "[encoded data removed]",
      "text/plain": [
       "<Figure size 432x288 with 1 Axes>"
      ]
     },
     "metadata": {
      "needs_background": "light"
     },
     "output_type": "display_data"
    }
   ],
   "source": [
    "W1_t,b1_t,theta3_t,bias3_t,cost_t,accuracy_t = main_init(x_train[:500], y_train[:500] ,W1,b1,theta3,bias3)\n",
    "\n",
    "plt.plot(cost_t, linewidth = 2)\n",
    "plt.show()"
   ]
  }
 ],
 "metadata": {
  "kernelspec": {
   "display_name": "Python 3",
   "language": "python",
   "name": "python3"
  },
  "language_info": {
   "codemirror_mode": {
    "name": "ipython",
    "version": 3
   },
   "file_extension": ".py",
   "mimetype": "text/x-python",
   "name": "python",
   "nbconvert_exporter": "python",
   "pygments_lexer": "ipython3",
   "version": "3.8.5"
  }
 },
 "nbformat": 4,
 "nbformat_minor": 4
}
